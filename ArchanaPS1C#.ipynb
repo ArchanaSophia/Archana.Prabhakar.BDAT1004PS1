{
 "cells": [
  {
   "cell_type": "markdown",
   "id": "4b644238",
   "metadata": {},
   "source": [
    "Problem Set 1: C# Problems"
   ]
  },
  {
   "cell_type": "markdown",
   "id": "0cc04f90",
   "metadata": {},
   "source": [
    "Question 1: \n",
    "Data Types\n",
    "\n",
    "5                    ---> type is---> Integer            \n",
    "5.0                  ---> type is---> Float              \n",
    "5>1                  ---> type is---> Boolean            \n",
    "'5'                  ---> type is---> String             \n",
    "5*2                  ---> type is---> Integer            \n",
    "'5' + '2'            ---> type is---> String             \n",
    "5 / 2                ---> type is---> Integer            \n",
    "5 % 2                ---> type is---> Integer            \n",
    "{5, 2, 1}            ---> type is---> Array              \n",
    "5 == 3               ---> type is---> Boolean            \n",
    "Pi (the number)      ---> type is---> Predefined Constant\n"
   ]
  },
  {
   "cell_type": "markdown",
   "id": "4a12a313",
   "metadata": {},
   "source": [
    "Question 2: \n",
    "Write (and evaluate) C# expressions that answer these questions:\n",
    "a. How many letters are there in 'Supercalifragilisticexpialidocious'?\n",
    "b. Does 'Supercalifragilisticexpialidocious' contain 'ice' as a substring? \n",
    "c. Which of the following words is the longest:\n",
    "Supercalifragilisticexpialidocious, Honorificabilitudinitatibus, or\n",
    "Bababadalgharaghtakamminarronnkonn?\n",
    "d. Which composer comes first in the dictionary: 'Berlioz', 'Borodin', 'Brian',\n",
    "'Bartok', 'Bellini', 'Buxtehude', 'Bernstein'. Which one comes last?\n",
    "\n",
    "Answer:"
   ]
  },
  {
   "cell_type": "code",
   "execution_count": 16,
   "id": "bb9fefcb",
   "metadata": {},
   "outputs": [
    {
     "name": "stdout",
     "output_type": "stream",
     "text": [
      "Supercalifragilisticexpialidocious has 34 letters in it.\n",
      "Supercalifragilisticexpialidocious contains the word ice in it.\n",
      "Supercalifragilisticexpialidocious and Bababadalgharaghtakamminarronnkonn are equal and the longest.\n",
      "Key: Berlioz, Value: 1\n",
      "Key: Borodin, Value: 2\n",
      "Key: Brian, Value: 3\n",
      "Key: Bartok, Value: 4\n",
      "Key: Bellini, Value: 5\n",
      "Key: Buxtehude, Value: 6\n",
      "Key: Bernstein, Value: 7\n",
      "Hence we see that the values in a dictionary are not sorted automatically. They will remain the same order as they were entered.\n"
     ]
    }
   ],
   "source": [
    "string a = \"Supercalifragilisticexpialidocious\";\n",
    "string b = \"Honorificabilitudinitatibus\";\n",
    "string c = \"Bababadalgharaghtakamminarronnkonn\";\n",
    "int a_len = a.Length;                         // To find the lenght of the sting we use the function \"Lenght\".\n",
    "int b_len = b.Length; \n",
    "int c_len = c.Length;\n",
    "\n",
    "IDictionary<string, int> composer = new Dictionary<string, int>(); //Creating a dictionary composer with the names and keys\n",
    "composer.Add(\"Berlioz\",1); \n",
    "composer.Add(\"Borodin\",2);\n",
    "composer.Add(\"Brian\",3);\n",
    "composer.Add(\"Bartok\",4);\n",
    "composer.Add(\"Bellini\",5);\n",
    "composer.Add(\"Buxtehude\",6);\n",
    "composer.Add(\"Bernstein\",7);\n",
    "\n",
    "// We print the value of the lenght of the sting a-> a_len\n",
    "Console.WriteLine(a + \" has \" + a_len + \" letters in it.\");\n",
    "\n",
    "// To check if a string contains a specified substring, we use the function \"Contains\".\n",
    "// This returns a boolean value which we pass into a if-else condition to print the output.\n",
    "\n",
    "if (a.Contains(\"ice\"))\n",
    "            {\n",
    "                Console.WriteLine(a + \" contains the word ice in it.\");\n",
    "            }\n",
    "            else\n",
    "            {\n",
    "                Console.WriteLine(a + \" does not contain the word ice in it.\");\n",
    "\n",
    "            }\n",
    "            \n",
    "// Frist we check if all the lenghts are the same            \n",
    "            \n",
    "if (a_len == b_len && a_len == c_len)\n",
    "    {\n",
    "        Console.WriteLine(a + \", \" + b + \" and \" + c + \" are the same lenght.\");\n",
    "    }\n",
    "else\n",
    "if (a_len>=b_len && a_len>=c_len)                                   // We check the lenghts of the letter with respect to the first one\n",
    "{\n",
    "    if (a_len == c_len)\n",
    "    {\n",
    "        Console.WriteLine(a + \" and \" + c + \" are equal and the longest.\");\n",
    "\n",
    "    }\n",
    "    else if ( a_len == b_len)\n",
    "    {\n",
    "        Console.WriteLine(a + \" and \" + b + \" are equal and the longest.\");\n",
    "    }\n",
    "    else\n",
    "    {\n",
    "        Console.WriteLine(a + \" is the longest.\");\n",
    "    }\n",
    "} else\n",
    "if (b_len >= c_len && b_len >= a_len)                              // We check the lenghts of the letter with respect to the second one\n",
    "{\n",
    "    if (b_len == a_len)\n",
    "    {\n",
    "        Console.WriteLine(b + \" and \" + a + \" are equal and the longest.\");\n",
    "\n",
    "    }\n",
    "    else if (b_len == c_len)\n",
    "    {\n",
    "        Console.WriteLine(b + \" and \" + c + \" are equal and the longest.\");\n",
    "    }\n",
    "    else\n",
    "    {\n",
    "        Console.WriteLine(b + \" is the longest.\");\n",
    "    }\n",
    "}else\n",
    "if (c_len >= a_len && c_len >= b_len)                               // We check the lenghts of the letter with respect to the third one\n",
    "{\n",
    "    if (c_len == a_len)\n",
    "    {\n",
    "        Console.WriteLine(c + \" and \" + a + \" are equal and the longest.\");\n",
    "\n",
    "    }\n",
    "    else if (c_len == b_len)\n",
    "    {\n",
    "        Console.WriteLine(c + \" and \" + b + \" are equal and the longest.\");\n",
    "    }\n",
    "    else\n",
    "    {\n",
    "        Console.WriteLine(c + \" is the longest.\");\n",
    "    }\n",
    "}\n",
    "\n",
    "foreach (KeyValuePair<string, int> name in composer)  // Printing the values in the dictionary by key value to see the order\n",
    "{                                                           \n",
    "    Console.WriteLine(\"Key: {0}, Value: {1}\",  \n",
    "    name.Key, name.Value); \n",
    "}\n",
    "Console.WriteLine(\"Hence we see that the values in a dictionary are not sorted automatically. They will remain the same order as they were entered.\");"
   ]
  },
  {
   "cell_type": "markdown",
   "id": "2f6055be",
   "metadata": {},
   "source": [
    "Question 3: \n",
    "Implement function triangleArea(a,b,c) that takes as input the lengths of the 3\n",
    "sides of a triangle and returns the area of the triangle. By Heron's formula, the area\n",
    "of a triangle with side lengths a, b, and c is\n",
    "s(s - a)(s -b)(s -c)\n",
    ", where\n",
    "s = (a+b+c)/2.\n",
    ">>> triangleArea(2,2,2)\n",
    "1.7320508075688772"
   ]
  },
  {
   "cell_type": "code",
   "execution_count": 17,
   "id": "d7942082",
   "metadata": {},
   "outputs": [
    {
     "name": "stdout",
     "output_type": "stream",
     "text": [
      "1.7320508075688772\r\n"
     ]
    }
   ],
   "source": [
    "//Defining a function triangleArea \n",
    "public double triangleArea(double a,double b, double c)\n",
    "{\n",
    "    double s=(a+b+c)/2;                           //calculating the value of s\n",
    "    double area= Math.Sqrt(s*(s-a)*(s-b)*(s-c));  //using Heron's formula \n",
    "        return area;                              //returing the area\n",
    "}\n",
    "double d= triangleArea(2,2,2);                    //passing the values of the sides into the function triangleArea and storing the return value-area in d\n",
    "Console.WriteLine(d);                             //printing d-the area\n"
   ]
  },
  {
   "cell_type": "markdown",
   "id": "3487ae50",
   "metadata": {},
   "source": [
    "Question 4:\n",
    "Write a program in C# Sharp to separate odd and even integers in separate arrays. "
   ]
  },
  {
   "cell_type": "code",
   "execution_count": 18,
   "id": "828fcf75",
   "metadata": {},
   "outputs": [
    {
     "name": "stdout",
     "output_type": "stream",
     "text": [
      "The even numbers are \n",
      "\n",
      "42 56 32 \n",
      "The odd numbers are \n",
      "\n",
      "25 47 "
     ]
    }
   ],
   "source": [
    "int[] arr = new int[5];   //Creating an array with lenght 5\n",
    "arr[0]=25;                //Assigning values to the array\n",
    "arr[1]=47;\n",
    "arr[2]=42;\n",
    "arr[3]=56;\n",
    "arr[4]=32;\n",
    "int[] even = new int[5]; //Creating an array to hold the even numbers\n",
    "int[] odd = new int[5];  //Creating an array to hold the even numbers\n",
    "int a=0;                 // a and b for counts to be used in the \"for loop\" while assigning odd and even numbers\n",
    "int b=0;\n",
    "for (int i=0; i<5; i++)\n",
    "{  \n",
    "  if (arr[i]%2==0)      //Assigning all even numbers to even array\n",
    "  { \n",
    "  even[a]=arr[i];\n",
    "  a=a+1;\n",
    "  }else if (arr[i]%2==1)//Assigning all odd numbers to odd array\n",
    "  { \n",
    "  odd[b]=arr[i];\n",
    "  b=b+1;\n",
    "  }\n",
    "}\n",
    "Console.WriteLine(\"The even numbers are \\n\"); // Printing in the even array\n",
    "for (int i=0; i<even.Count(); i++)\n",
    "{\n",
    "if (even[i]!=0)\n",
    "{\n",
    "Console.Write(even[i]+ \" \");\n",
    "}\n",
    "}\n",
    "Console.WriteLine(\"\\nThe odd numbers are \\n\"); // Printing the odd array\n",
    "for (int i=0; i<even.Count(); i++)\n",
    "{\n",
    "if (odd[i]!=0)\n",
    "{\n",
    "Console.Write(odd[i]+ \" \");\n",
    "}\n",
    "}"
   ]
  },
  {
   "cell_type": "markdown",
   "id": "b829106d",
   "metadata": {},
   "source": [
    "Question 5: \n",
    "Write a function inside(x,y,x1,y1,x2,y2) that returns True or False\n",
    "depending on whether the point (x,y) lies in the rectangle with lower left\n",
    "corner (x1,y1) and upper right corner (x2,y2)."
   ]
  },
  {
   "cell_type": "code",
   "execution_count": 19,
   "id": "5f413a93",
   "metadata": {},
   "outputs": [
    {
     "name": "stdout",
     "output_type": "stream",
     "text": [
      "Point = 1,1; Lower left corner=0,0; Upper right corner=2,3\n",
      "True\n",
      "Point = -1,-1; Lower left corner=0,0; Upper right corner=2,3\n",
      "False\n",
      "Point = 1,1; Lower left corner=0.3,0.5; Upper right corner=1.1,0.7\n",
      "False\n",
      "Point = 1,1; Lower left corner=0.5,0.2; Upper right corner=1.1,2\n",
      "True\n"
     ]
    }
   ],
   "source": [
    "//Defining the function inside with return type bool that can be used to return true or false\n",
    "//x,y is the point, x1,y1 is the lower left corner and x2,y2 is the upper right corner\n",
    "public bool inside (double x,double y,double x1,double y1,double x2,double y2)\n",
    "{\n",
    "if ((x > x1) && (x < x2) && (y > y1) && (y < y2))   //Condition to check if the point is inside the rectangle\n",
    "{\n",
    "return true;                                        // return true if the point is inside\n",
    "}\n",
    "return false;                                       // return true if the point is inside\n",
    "}\n",
    "Console.WriteLine(\"Point = 1,1; Lower left corner=0,0; Upper right corner=2,3\");\n",
    "bool output=inside(1,1,0,0,2,3);\n",
    "Console.WriteLine(output);\n",
    "Console.WriteLine(\"Point = -1,-1; Lower left corner=0,0; Upper right corner=2,3\");\n",
    "output=inside(-1,-1,0,0,2,3);\n",
    "Console.WriteLine(output);\n",
    "Console.WriteLine(\"Point = 1,1; Lower left corner=0.3,0.5; Upper right corner=1.1,0.7\");\n",
    "output=inside(1,1,0.3,0.5,1.1,0.7);\n",
    "Console.WriteLine(output);\n",
    "Console.WriteLine(\"Point = 1,1; Lower left corner=0.5,0.2; Upper right corner=1.1,2\");\n",
    "output=inside(1,1,0.5,0.2,1.1,2);\n",
    "Console.WriteLine(output);"
   ]
  }
 ],
 "metadata": {
  "kernelspec": {
   "display_name": ".NET (C#)",
   "language": "C#",
   "name": ".net-csharp"
  },
  "language_info": {
   "file_extension": ".cs",
   "mimetype": "text/x-csharp",
   "name": "C#",
   "pygments_lexer": "csharp",
   "version": "8.0"
  }
 },
 "nbformat": 4,
 "nbformat_minor": 5
}
