{
 "cells": [
  {
   "cell_type": "markdown",
   "id": "a8016c67",
   "metadata": {},
   "source": [
    "Problem Set 1: Python Problems"
   ]
  },
  {
   "cell_type": "markdown",
   "id": "17fea697",
   "metadata": {},
   "source": [
    "Question 6:Write a function pig() that takes a word (i.e., a string) as input and returns its pigLatin form. Your function should still work if the input word contains upper case\n",
    "characters. Your output should always be lower case however. "
   ]
  },
  {
   "cell_type": "code",
   "execution_count": 1,
   "id": "5dd22a09",
   "metadata": {},
   "outputs": [
    {
     "name": "stdout",
     "output_type": "stream",
     "text": [
      " appyhay\n",
      " enterway\n"
     ]
    }
   ],
   "source": [
    "def pig(a):                         #Defining a function pig                                                                                                                                                                                                                                                            \n",
    "  l1 = list()                       #list to store the string as a list that can be manipulated                                                                                                                     \n",
    "  out=\" \"                                                                                                                              \n",
    "  for i in range (0,len(a)):                                                                                                           \n",
    "      l1.append(a[i])                                                                                                                  \n",
    "  if (a[0]==\"a\" or a[0]==\"e\" or a[0]==\"i\" or a[0]==\"o\" or a[0]==\"u\" or a[0]==\"A\" or a[0]==\"E\" or a[0]==\"I\" or a[0]==\"O\" or a[0]==\"U\" ):\n",
    "      l1.append('w')                #after checking for vowles we add w,a and y to the end of the list                                                                                                \n",
    "      l1.append('a')                                                                                                                   \n",
    "      l1.append('y')                                                                                                                                                                                                                                          \n",
    "      for x in l1:                                                                                                                     \n",
    "         out+= x                    #we concatenate and bulid a string from every item in the list                                                                                                  \n",
    "  else:                                                                                                                                \n",
    "      temp=l1[0]                    #storing the first letter in a temp var so it can be added to the end                                                                                                  \n",
    "      for i in range (0,len(a)-1):  #moving the letter to one place ahead in the list                                                                                                  \n",
    "          l1[i]=l1[i+1]                                                                                                                \n",
    "      l1[len(a)-1]=temp             #assigning the first letter to the last place                                                                                                                                                                                                                        \n",
    "      l1.append('a')                #adding a and y to the end of the list                                                                                                  \n",
    "      l1.append('y')                                                                                                                                                                                                                                          \n",
    "      for x in l1:                                                                                                                     \n",
    "         out+= x                    #we concatenate and bulid a string from every item in the list                                                                                                \n",
    "  return out.lower()                #returing the string in pig latin\n",
    "    \n",
    "output=pig('happy')                 #passing values into the function and printing the result\n",
    "print(output)                               \n",
    "output=pig('Enter')    \n",
    "print(output)"
   ]
  },
  {
   "cell_type": "markdown",
   "id": "276b8040",
   "metadata": {},
   "source": [
    "Question 7: \n",
    "File bloodtype1.txt records blood-types of patients (A, B, AB, O or OO) at a clinic.\n",
    "Write a function bldcount() that reads the file with name name and reports (i.e.,\n",
    "prints) how many patients there are in each bloodtype."
   ]
  },
  {
   "cell_type": "code",
   "execution_count": 2,
   "id": "e2140685",
   "metadata": {},
   "outputs": [
    {
     "name": "stdout",
     "output_type": "stream",
     "text": [
      "There are 15 patients of blood type A.\n",
      "There is 1 patient of blood type B.\n",
      "There are 13 patients of blood type AB.\n",
      "There are 15 patients of blood type O.\n",
      "There are 0 patients of blood type OO.\n"
     ]
    }
   ],
   "source": [
    "def bldcount ( name ):    #Defining a function bldcount    \n",
    " f =open(name, \"r\")       #opening the file in read mode\n",
    " contents= (f.read())\n",
    " count = contents.count('A ')                                          #counting and print type A\n",
    " if (count!=1):\n",
    "        print(\"There are \"+str(count)+ \" patients of blood type A.\")\n",
    " else:\n",
    "        print(\"There is \"+str(count)+ \" patient of blood type A.\")    \n",
    " count = contents.count(' B ')                                         #counting and print type B\n",
    " if (count!=1):\n",
    "        print(\"There are \"+str(count)+ \" patients of blood type B.\")\n",
    " else:\n",
    "        print(\"There is \"+str(count)+ \" patient of blood type B.\")  \n",
    " count = contents.count('AB ')                                         #counting and print type AB\n",
    " if (count!=1):\n",
    "        print(\"There are \"+str(count)+ \" patients of blood type AB.\")\n",
    " else:\n",
    "        print(\"There is \"+str(count)+ \" patient of blood type AB.\") \n",
    " count = contents.count('O ')                                          #counting and print type O\n",
    " if (count!=1):\n",
    "        print(\"There are \"+str(count)+ \" patients of blood type O.\")\n",
    " else:\n",
    "        print(\"There is \"+str(count)+ \" patient of blood type O.\") \n",
    " count = contents.count('OO')                                          #counting and print type OO\n",
    " if (count!=1):\n",
    "        print(\"There are \"+str(count)+ \" patients of blood type OO.\")\n",
    " else:\n",
    "        print(\"There is \"+str(count)+ \" patient of blood type OO.\") \n",
    " f.close()                                                             #close the file\n",
    "                                             \n",
    "bldcount(\"bloodtype1.txt\")          #calling the function and passing the file name as an argument"
   ]
  },
  {
   "cell_type": "markdown",
   "id": "b29a37a9",
   "metadata": {},
   "source": [
    "Question 8:\n",
    "Write a function curconv() that takes as input:\n",
    "1. a currency represented using a string (e.g., 'JPY' for the Japanese Yen or 'EUR' for the Euro)\n",
    "2. an amount\n",
    "and then converts and returns the amount in US dollars.  "
   ]
  },
  {
   "cell_type": "code",
   "execution_count": 3,
   "id": "b4565d8c",
   "metadata": {},
   "outputs": [
    {
     "name": "stdout",
     "output_type": "stream",
     "text": [
      "122.96544\n",
      "1.241401\n"
     ]
    }
   ],
   "source": [
    "def curconv (cur_code, amt):                              #Defining a function bldcount\n",
    " code1=''                                                 #Variable for the exchange rate\n",
    " count=0                                                  #count var for the for loop which fetches the exchage rate\n",
    " numlist=(\"0\",\"1\",\"2\",\"3\",\"4\",\"5\",\"6\",\"7\",\"8\",\"9\",\".\")    #defining the possible values for exchange rate\n",
    " f =open(\"D:\\\\currencies.txt\", \"r\")                       #opening the file containing the rates and currency codes\n",
    " for line in f:                                           #In everyline in the file we check for the given currency code\n",
    "  if cur_code in line:                                    \n",
    "     for char in line:             \n",
    "       if char  in numlist:                               #We look for the number and\".\" characters and store them in one variable \n",
    "             code1 += char           \n",
    " f.close()                                                #close the file\n",
    " return float(code1)*amt                                  #We return the output after converting the exchange rate from string to float\n",
    "\n",
    "print(curconv(\"EUR\", 100))                                #calling the function and passing the currency code and amount as arguments. Printing the output.\n",
    "print(curconv(\"JPY\", 100))                                "
   ]
  },
  {
   "cell_type": "markdown",
   "id": "39dbe8b9",
   "metadata": {},
   "source": [
    "Question 9:\n",
    "Each of the following will cause an exception (an error). Identify what type of exception each will cause.\n",
    "\n",
    "1) Trying to add incompatible variables, as in adding 6 + ‘a’\n",
    "\n",
    "Answer:\n",
    "TypeError: unsupported operand type(s) for +: 'int' and 'str'\n",
    "This error is thrown because two an int and str cannot be added or concatenated.\n",
    "\n",
    "--------------------------------------------------------------------------------------------------------------------\n",
    "\n",
    "2) Referring to the 12th item of a list that has only 10 items\n",
    "\n",
    "Answer:\n",
    "IndexError: list index out of range\n",
    "This error is thrown because the item reffered to does not exist.\n",
    "\n",
    "--------------------------------------------------------------------------------------------------------------------\n",
    "\n",
    "3) Using a value that is out of range for a function’s input, such as calling math.sqrt(-1.0)\n",
    "\n",
    "Answer:\n",
    "ValueError: math domain error\n",
    "This error is thrown because sqrt function in the math module cannot work with imaginary numbers.\n",
    "\n",
    "--------------------------------------------------------------------------------------------------------------------\n",
    "\n",
    "4) Using an undeclared variable, such as print(x) when x has not been defined\n",
    "\n",
    "Answer:\n",
    "NameError: name 'x' is not defined\n",
    "This error is thrown because x does not have a value associated with it and the same is reffered to.\n",
    "\n",
    "--------------------------------------------------------------------------------------------------------------------\n",
    "\n",
    "5) Trying to open a file that does not exist, such as mistyping the file name or looking in the wrong directory. \n",
    "\n",
    "Answer:\n",
    "FileNotFoundError: [Errno 2] No such file or directory: 'file.txt'\n",
    "This error is thrown because the file does not exist in the directory\n",
    "\n",
    "--------------------------------------------------------------------------------------------------------------------"
   ]
  },
  {
   "cell_type": "markdown",
   "id": "076f947f",
   "metadata": {},
   "source": [
    "Question 10:\n",
    "Write a function called frequencies()that takes a string as its only parameter, and returns a list of integers, showing the number of times each character appears in the text. Your function may ignore any characters that are not in letters. "
   ]
  },
  {
   "cell_type": "code",
   "execution_count": 4,
   "id": "912637aa",
   "metadata": {},
   "outputs": [
    {
     "name": "stdout",
     "output_type": "stream",
     "text": [
      "[1, 1, 1, 3, 5, 1, 1, 2, 1, 0, 1, 0, 1, 2, 4, 0, 1, 2, 0, 2, 1, 0, 1, 1, 0, 0]\n",
      "[1, 0, 0, 0, 1, 0, 0, 0, 0, 0, 0, 1, 0, 0, 0, 2, 0, 0, 0, 0, 0, 0, 0, 0, 0, 0]\n"
     ]
    }
   ],
   "source": [
    "def frequencies(input):  #Defining a function frequencies \n",
    " lst1=[\"a\",\"b\",\"c\",\"d\",\"e\",\"f\",\"g\",\"h\",\"i\",\"j\",\"k\",\"l\",\"m\",\"n\",\"o\",\"p\",\"q\",\"r\",\"s\",\"t\",\"u\",\"v\",\"w\",\"x\",\"y\",\"z\"]\n",
    " lst2 = list()           #lst1 has all the characters to count, lst2 is an empty list to store the counts\n",
    " for i in range(0,26):   #for loop to count the characters and store the outputs in lst2\n",
    "  count= input.count(lst1[i])\n",
    "  lst2.append(count)\n",
    " return(lst2)            #returing the list with the counts\n",
    "                         #calling the function frequencies and passing the string as the argument, then printing the output                       \n",
    "print(frequencies(\"The quick red fox got bored and went home.\")) \n",
    "print(frequencies(\"apple\"))"
   ]
  }
 ],
 "metadata": {
  "kernelspec": {
   "display_name": "Python 3",
   "language": "python",
   "name": "python3"
  },
  "language_info": {
   "codemirror_mode": {
    "name": "ipython",
    "version": 3
   },
   "file_extension": ".py",
   "mimetype": "text/x-python",
   "name": "python",
   "nbconvert_exporter": "python",
   "pygments_lexer": "ipython3",
   "version": "3.8.8"
  }
 },
 "nbformat": 4,
 "nbformat_minor": 5
}
