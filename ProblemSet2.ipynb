{
 "cells": [
  {
   "cell_type": "markdown",
   "id": "987818bf",
   "metadata": {},
   "source": [
    "Problem Set 2"
   ]
  },
  {
   "cell_type": "markdown",
   "id": "e46d73ba",
   "metadata": {},
   "source": [
    "Question 1\n",
    "After importing the module into the interpreter.\n",
    "What value is displayed when the last expression (a) is evaluated? \n",
    "Explain your answer by indicating what happens in every executed statement."
   ]
  },
  {
   "cell_type": "code",
   "execution_count": 1,
   "id": "f776d8d9",
   "metadata": {},
   "outputs": [
    {
     "data": {
      "text/plain": [
       "6"
      ]
     },
     "execution_count": 1,
     "metadata": {},
     "output_type": "execute_result"
    }
   ],
   "source": [
    "a = 0\n",
    "def b():\n",
    "    global a\n",
    "    a = c(a)\n",
    "def c(a):\n",
    "    return a + 2\n",
    "\n",
    "b()  # When b is called global var a (which is 0) is passed to c where 2 is added to a. Now a=2\n",
    "b()  # When b is called again global var a (which is 2) is passed to c where 2 is added to a. Now a=4\n",
    "b()  # When b is called global var a (which is 4) is passed to c where 2 is added to a. Now a=6\n",
    "a    # value of global variable a is printed, 6.\n"
   ]
  },
  {
   "cell_type": "markdown",
   "id": "cadc8159",
   "metadata": {},
   "source": [
    "Question 2 Function fileLength(), given to you, takes the name of a file as input and returns the length of the file.\n",
    "If the file cannot be found by the interpreter or if it cannot be read as a text file, an exception will be raised. \n",
    "Modify function fileLength() so that a friendly message is printed instead:"
   ]
  },
  {
   "cell_type": "code",
   "execution_count": 206,
   "id": "d4f577d8",
   "metadata": {},
   "outputs": [
    {
     "name": "stdout",
     "output_type": "stream",
     "text": [
      "File idterm.py not found\n"
     ]
    }
   ],
   "source": [
    "def fileLength(file_name):\n",
    "    try:\n",
    "     file = open(file_name)\n",
    "    except FileNotFoundError:\n",
    "     print(\"File {} not found\".format(file_name)) \n",
    "    else:\n",
    "     contents = file.read()\n",
    "     file.close()\n",
    "     print(len(contents))\n",
    "\n",
    "    \n",
    "fileLength('idterm.py')    \n",
    "    "
   ]
  },
  {
   "cell_type": "markdown",
   "id": "6d3f967f",
   "metadata": {},
   "source": [
    "Question 3 Write a class named Marsupial.\n",
    "Now write a class named Kangaroo as a subclass of Marsupial that inherits all the attributes of Marsupial and also:\n",
    "a. extends the Marsupial __init__ constructor to take, as input, the coordinates x and y of the Kangaroo object,\n",
    "b. supports method jump that takes number values dx and dy as input and moves the kangaroo by dx units along the x-axis \n",
    "and by dy units along the y-axis, and\n",
    "c. overloads the __str__ operator."
   ]
  },
  {
   "cell_type": "code",
   "execution_count": 6,
   "id": "a8c91673",
   "metadata": {},
   "outputs": [
    {
     "name": "stdout",
     "output_type": "stream",
     "text": [
      "['doll', 'firetruck', 'kitten']\n"
     ]
    }
   ],
   "source": [
    "class Marsupial:\n",
    "    def __init__(self):\n",
    "        self.p=[]\n",
    "    def put_in_pouch(self, contents):\n",
    "        self.p.append(contents)\n",
    "    def pouch_contents(self):\n",
    "        print(self.p)\n",
    "\n",
    "m = Marsupial()\n",
    "m.put_in_pouch('doll')\n",
    "m.put_in_pouch('firetruck')\n",
    "m.put_in_pouch('kitten')\n",
    "m.pouch_contents()"
   ]
  },
  {
   "cell_type": "code",
   "execution_count": 7,
   "id": "e2db7a41",
   "metadata": {},
   "outputs": [
    {
     "name": "stdout",
     "output_type": "stream",
     "text": [
      "I am a Kangaroo located at coordinates (0,0).\n",
      "['doll', 'firetruck', 'kitten']\n",
      "I am a Kangaroo located at coordinates (3,0).\n"
     ]
    }
   ],
   "source": [
    "class Kangaroo(Marsupial):\n",
    "    def __init__(self, xc=0, yc=0):\n",
    "        self.x=xc\n",
    "        self.y=yc\n",
    "        self.p=[]\n",
    "    def __str__(self):\n",
    "        a=\"I am a Kangaroo located at coordinates (\"\n",
    "        b=str(self.x)\n",
    "        c=str(self.y)\n",
    "        d=a+b+\",\"+c+\").\"\n",
    "        return d\n",
    "    def jump(self, x1, y1):\n",
    "        self.x=self.x+x1\n",
    "        self.y=self.y+y1\n",
    "\n",
    "        \n",
    "k= Kangaroo(0,0)\n",
    "print(k)\n",
    "k.put_in_pouch('doll')\n",
    "k.put_in_pouch('firetruck')\n",
    "k.put_in_pouch('kitten')\n",
    "k.pouch_contents()\n",
    "k.jump(1,0)\n",
    "k.jump(1,0)\n",
    "k.jump(1,0)\n",
    "print(k)"
   ]
  },
  {
   "cell_type": "markdown",
   "id": "9459d466",
   "metadata": {},
   "source": [
    "Question 4 \n",
    "Write function collatz() that takes a positive integer x as input and prints the Collatz sequence starting at x.\n",
    "A Collatz sequence is obtained by repeatedly applying this rule to the previous number x in the sequence:\n",
    "x = { 𝑥/2 𝑖𝑓 𝑥 𝑖𝑠 𝑒𝑣𝑒𝑛3𝑥+1 𝑖𝑓 𝑥 𝑖𝑠 𝑜𝑑𝑑\n",
    "Your function should stop when the sequence gets to number 1.\n",
    "Your implementation must be recursive, without any loops."
   ]
  },
  {
   "cell_type": "code",
   "execution_count": 209,
   "id": "288e551f",
   "metadata": {},
   "outputs": [
    {
     "name": "stdout",
     "output_type": "stream",
     "text": [
      "1\n",
      "  \n",
      "10\n",
      "5.0\n",
      "16.0\n",
      "8.0\n",
      "4.0\n",
      "2.0\n",
      "1.0\n"
     ]
    }
   ],
   "source": [
    "def collatz(n):\n",
    "    if n==1:\n",
    "        print(n)\n",
    "    else:\n",
    "        print(n)\n",
    "        if n%2==0:\n",
    "            collatz(n/2)\n",
    "        else:\n",
    "            collatz((3*n)+1)\n",
    "        \n",
    "collatz(1)     \n",
    "print(\"  \")\n",
    "collatz(10)  \n"
   ]
  },
  {
   "cell_type": "markdown",
   "id": "4f9414a8",
   "metadata": {},
   "source": [
    "Question 5 Write a recursive method binary() that takes a non-negative integer n \n",
    "and prints the binary representation of integer n."
   ]
  },
  {
   "cell_type": "code",
   "execution_count": 210,
   "id": "c658f63e",
   "metadata": {},
   "outputs": [
    {
     "name": "stdout",
     "output_type": "stream",
     "text": [
      "0 \n",
      "1 \n",
      "11 \n",
      "1001"
     ]
    }
   ],
   "source": [
    "def binary (n):\n",
    "    if n>=2:\n",
    "        binary(n//2)\n",
    "        print(n%2, end='')\n",
    "    else:\n",
    "        print(n, end='')    \n",
    "\n",
    "binary(0)\n",
    "print(\" \")\n",
    "binary(1)\n",
    "print(\" \")\n",
    "binary(3)\n",
    "print(\" \")\n",
    "binary(9)\n",
    "        "
   ]
  },
  {
   "cell_type": "markdown",
   "id": "2ed6e84c",
   "metadata": {},
   "source": [
    "Question 6\n",
    "Implement a class named HeadingParser that can be used to parse an HTML document, \n",
    "and retrieve and print all the headings in the document. You should implement your class as a subclass of HTMLParser, \n",
    "defined in Standard Library module html.parser. When fed a string containing HTML code, \n",
    "your class should print the headings, one per line and in the order in which they appear in the document. \n",
    "Each heading should be indented"
   ]
  },
  {
   "cell_type": "code",
   "execution_count": 246,
   "id": "52566c38",
   "metadata": {},
   "outputs": [
    {
     "name": "stdout",
     "output_type": "stream",
     "text": [
      "W3C Mission\n",
      " Principles\n"
     ]
    }
   ],
   "source": [
    "from html.parser import HTMLParser\n",
    "class HeadingParser(HTMLParser):\n",
    "    Heading1 = False\n",
    "    Heading2 = False\n",
    "    def handle_starttag(self, tag, attrs):\n",
    "        if tag == \"h1\":\n",
    "            self.Heading1 = True\n",
    "        if tag ==\"h2\":\n",
    "            self.Heading2 = True\n",
    "    def handle_data(self, data):\n",
    "        if self.Heading1:\n",
    "            print(data)\n",
    "        if self.Heading2:\n",
    "            print(\" \"+data)\n",
    "    def handle_endtag(self, tag):\n",
    "        if tag ==\"h1\":\n",
    "            self.Heading1 = False\n",
    "        if tag ==\"h2\":\n",
    "            self.Heading2 = False\n",
    "infile= open ('w3c.html')\n",
    "content = infile.read()\n",
    "infile.close()\n",
    "hp = HeadingParser()\n",
    "hp.feed(content)"
   ]
  },
  {
   "cell_type": "markdown",
   "id": "731bec83",
   "metadata": {},
   "source": [
    "Question 8\n",
    "Write SQL queries on the below database table that return:"
   ]
  },
  {
   "cell_type": "markdown",
   "id": "f7f7ef8e",
   "metadata": {},
   "source": [
    "import sqlite3\n",
    "conn= sqlite3.connect('web.db')\n",
    "cur= con.cursor()\n",
    "cur.execute(\"CREATE TABLE CITY_Details(City text, Country text, Season text, Teamperature float, Rainfall float)\")\n",
    "cur.execute(\"INSERT INTO CITY_Details (City, Country, Season, Teamperature, Rainfall) VALUES('Mumbai','India','Winter',24.8,5.9)\")\n",
    "cur.execute(\"INSERT INTO CITY_Details (City, Country, Season, Teamperature, Rainfall) VALUES('Mumbai','India','Spring',28.4,16.2)\")\n",
    "cur.execute(\"INSERT INTO CITY_Details (City, Country, Season, Teamperature, Rainfall) VALUES('Mumbai','India','Summer',27.9,1549.4)\")\n",
    "cur.execute(\"INSERT INTO CITY_Details (City, Country, Season, Teamperature, Rainfall) VALUES('Mumbai','India','Fall',27.6,346.0)\")\n",
    "cur.execute(\"INSERT INTO CITY_Details (City, Country, Season, Teamperature, Rainfall) VALUES('London','United Kingdom','Winter',4.2,207.7)\")\n",
    "cur.execute(\"INSERT INTO CITY_Details (City, Country, Season, Teamperature, Rainfall) VALUES('London','United Kingdom','Spring',8.3,169.6)\")\n",
    "cur.execute(\"INSERT INTO CITY_Details (City, Country, Season, Teamperature, Rainfall) VALUES('London','United Kingdom','Summer',15.7,157.0)\")\n",
    "cur.execute(\"INSERT INTO CITY_Details (City, Country, Season, Teamperature, Rainfall) VALUES('London','United Kingdom','Fall',10.4,218.5)\")\n",
    "cur.execute(\"INSERT INTO CITY_Details (City, Country, Season, Teamperature, Rainfall) VALUES('Cairo','Egypt','Winter',13.6,16.5)\")\n",
    "cur.execute(\"INSERT INTO CITY_Details (City, Country, Season, Teamperature, Rainfall) VALUES('Cairo','Egypt','Spring',20.7,6.5)\")\n",
    "cur.execute(\"INSERT INTO CITY_Details (City, Country, Season, Teamperature, Rainfall) VALUES('Cairo','Egypt','Summer',27.7,0.1)\")\n",
    "cur.execute(\"INSERT INTO CITY_Details (City, Country, Season, Teamperature, Rainfall) VALUES('Cairo','Egypt','Fall',22.2,4.5)\")\n",
    "conn.commit()"
   ]
  },
  {
   "cell_type": "markdown",
   "id": "ecd91594",
   "metadata": {},
   "source": [
    "a) All the temperature data."
   ]
  },
  {
   "cell_type": "code",
   "execution_count": 211,
   "id": "5cb4692c",
   "metadata": {},
   "outputs": [
    {
     "name": "stdout",
     "output_type": "stream",
     "text": [
      "Teamperature =  24.8 \n",
      "\n",
      "Teamperature =  28.4 \n",
      "\n",
      "Teamperature =  27.9 \n",
      "\n",
      "Teamperature =  27.6 \n",
      "\n",
      "Teamperature =  4.2 \n",
      "\n",
      "Teamperature =  8.3 \n",
      "\n",
      "Teamperature =  15.7 \n",
      "\n",
      "Teamperature =  10.4 \n",
      "\n",
      "Teamperature =  13.6 \n",
      "\n",
      "Teamperature =  20.7 \n",
      "\n",
      "Teamperature =  27.7 \n",
      "\n",
      "Teamperature =  22.2 \n",
      "\n"
     ]
    }
   ],
   "source": [
    "cursor = cur.execute(\"select Teamperature from CITY_Details\")\n",
    "for row in cursor:\n",
    "   print (\"Teamperature = \", row[0], \"\\n\")"
   ]
  },
  {
   "cell_type": "markdown",
   "id": "3c4ea430",
   "metadata": {},
   "source": [
    "b) All the cities, but without repetition."
   ]
  },
  {
   "cell_type": "code",
   "execution_count": 212,
   "id": "fa586bda",
   "metadata": {},
   "outputs": [
    {
     "name": "stdout",
     "output_type": "stream",
     "text": [
      "City =  Mumbai \n",
      "\n",
      "City =  London \n",
      "\n",
      "City =  Cairo \n",
      "\n"
     ]
    }
   ],
   "source": [
    "cursor = cur.execute(\"select distinct city from CITY_Details\")\n",
    "for row in cursor:\n",
    "   print (\"City = \", row[0], \"\\n\")"
   ]
  },
  {
   "cell_type": "markdown",
   "id": "37df42ee",
   "metadata": {},
   "source": [
    "c) All the records for India."
   ]
  },
  {
   "cell_type": "code",
   "execution_count": 213,
   "id": "35263820",
   "metadata": {},
   "outputs": [
    {
     "name": "stdout",
     "output_type": "stream",
     "text": [
      "City =  Mumbai\n",
      "Country =  India\n",
      "Season =  Winter\n",
      "Teamperature =  24.8\n",
      "Rainfall =  5.9 \n",
      "\n",
      "City =  Mumbai\n",
      "Country =  India\n",
      "Season =  Spring\n",
      "Teamperature =  28.4\n",
      "Rainfall =  16.2 \n",
      "\n",
      "City =  Mumbai\n",
      "Country =  India\n",
      "Season =  Summer\n",
      "Teamperature =  27.9\n",
      "Rainfall =  1549.4 \n",
      "\n",
      "City =  Mumbai\n",
      "Country =  India\n",
      "Season =  Fall\n",
      "Teamperature =  27.6\n",
      "Rainfall =  346.0 \n",
      "\n"
     ]
    }
   ],
   "source": [
    "cursor = cur.execute(\"SELECT City, Country, Season, Teamperature, Rainfall from CITY_Details where Country='India'\")\n",
    "for row in cursor:\n",
    "   print (\"City = \", row[0])\n",
    "   print (\"Country = \", row[1])\n",
    "   print (\"Season = \", row[2])\n",
    "   print (\"Teamperature = \", row[3])\n",
    "   print (\"Rainfall = \", row[4], \"\\n\")"
   ]
  },
  {
   "cell_type": "markdown",
   "id": "4b4062a6",
   "metadata": {},
   "source": [
    "d) All the Fall records."
   ]
  },
  {
   "cell_type": "code",
   "execution_count": 214,
   "id": "e777ba4c",
   "metadata": {},
   "outputs": [
    {
     "name": "stdout",
     "output_type": "stream",
     "text": [
      "City =  Mumbai\n",
      "Country =  India\n",
      "Season =  Fall\n",
      "Teamperature =  27.6\n",
      "Rainfall =  346.0 \n",
      "\n",
      "City =  London\n",
      "Country =  United Kingdom\n",
      "Season =  Fall\n",
      "Teamperature =  10.4\n",
      "Rainfall =  218.5 \n",
      "\n",
      "City =  Cairo\n",
      "Country =  Egypt\n",
      "Season =  Fall\n",
      "Teamperature =  22.2\n",
      "Rainfall =  4.5 \n",
      "\n"
     ]
    }
   ],
   "source": [
    "cursor = cur.execute(\"SELECT City, Country, Season, Teamperature, Rainfall from CITY_Details where Season='Fall'\")\n",
    "for row in cursor:\n",
    "   print (\"City = \", row[0])\n",
    "   print (\"Country = \", row[1])\n",
    "   print (\"Season = \", row[2])\n",
    "   print (\"Teamperature = \", row[3])\n",
    "   print (\"Rainfall = \", row[4], \"\\n\")"
   ]
  },
  {
   "cell_type": "markdown",
   "id": "8f30acbd",
   "metadata": {},
   "source": [
    "e) The city, country, and season for which the average rainfall is between 200 and 400 millimeters."
   ]
  },
  {
   "cell_type": "code",
   "execution_count": 215,
   "id": "1feee50b",
   "metadata": {},
   "outputs": [
    {
     "name": "stdout",
     "output_type": "stream",
     "text": [
      "City =  Mumbai\n",
      "Country =  India\n",
      "Season =  Fall \n",
      "\n",
      "City =  London\n",
      "Country =  United Kingdom\n",
      "Season =  Winter \n",
      "\n",
      "City =  London\n",
      "Country =  United Kingdom\n",
      "Season =  Fall \n",
      "\n"
     ]
    }
   ],
   "source": [
    "cursor = cur.execute(\"SELECT City, Country, Season from CITY_Details where Rainfall between 200 and 400\")\n",
    "for row in cursor:\n",
    "   print (\"City = \", row[0])\n",
    "   print (\"Country = \", row[1])\n",
    "   print (\"Season = \", row[2], \"\\n\")"
   ]
  },
  {
   "cell_type": "markdown",
   "id": "aade3d52",
   "metadata": {},
   "source": [
    "f) The city and country for which the average Fall temperature is above 20 degrees, in increasing temperature order."
   ]
  },
  {
   "cell_type": "code",
   "execution_count": 216,
   "id": "91cf8ed9",
   "metadata": {},
   "outputs": [
    {
     "name": "stdout",
     "output_type": "stream",
     "text": [
      "City =  Mumbai\n",
      "Country =  India \n",
      "\n",
      "City =  Cairo\n",
      "Country =  Egypt \n",
      "\n"
     ]
    }
   ],
   "source": [
    "cursor = cur.execute(\"SELECT City, Country from CITY_Details where Season='Fall' and Teamperature>20 order by Teamperature desc\")\n",
    "for row in cursor:\n",
    "   print (\"City = \", row[0])\n",
    "   print (\"Country = \", row[1], \"\\n\")"
   ]
  },
  {
   "cell_type": "markdown",
   "id": "7b337350",
   "metadata": {},
   "source": [
    "g) The total annual rainfall for Cairo."
   ]
  },
  {
   "cell_type": "code",
   "execution_count": 217,
   "id": "fdececa0",
   "metadata": {},
   "outputs": [
    {
     "name": "stdout",
     "output_type": "stream",
     "text": [
      "Total Rainfall =  27.6\n"
     ]
    }
   ],
   "source": [
    "cursor = cur.execute(\"SELECT Sum(Rainfall) from CITY_Details where City='Cairo'\")\n",
    "for row in cursor:\n",
    "   print (\"Total Rainfall = \", row[0])"
   ]
  },
  {
   "cell_type": "markdown",
   "id": "a0e577fd",
   "metadata": {},
   "source": [
    "h) The total rainfall for each season."
   ]
  },
  {
   "cell_type": "code",
   "execution_count": 218,
   "id": "fece1ab2",
   "metadata": {},
   "outputs": [
    {
     "name": "stdout",
     "output_type": "stream",
     "text": [
      "Total Rainfall =  569.0\n",
      "Season =  Fall \n",
      "\n",
      "Total Rainfall =  192.29999999999998\n",
      "Season =  Spring \n",
      "\n",
      "Total Rainfall =  1706.5\n",
      "Season =  Summer \n",
      "\n",
      "Total Rainfall =  230.1\n",
      "Season =  Winter \n",
      "\n"
     ]
    }
   ],
   "source": [
    "cursor = cur.execute(\"SELECT Sum(Rainfall), Season from CITY_Details group by season\")\n",
    "for row in cursor:\n",
    "   print (\"Total Rainfall = \", row[0])\n",
    "   print (\"Season = \", row[1], \"\\n\")"
   ]
  },
  {
   "cell_type": "markdown",
   "id": "508a9b4f",
   "metadata": {},
   "source": [
    "Question 9\n",
    "Suppose list words is defined as follows:\n",
    ">>> words = ['The', 'quick', 'brown', 'fox', 'jumps', 'over', 'the', 'lazy', 'dog']\n",
    "Write list comprehension expressions that use list words and generate the following lists:\n",
    "a) ['THE', 'QUICK', 'BROWN', 'FOX', 'JUMPS', 'OVER', 'THE', 'LAZY', 'DOG']\n",
    "b) ['the', 'quick', 'brown', 'fox', 'jumps', 'over', 'the', 'lazy', 'dog']\n",
    "c) [3, 5, 5, 3, 5, 4, 3, 4, 3] (the list of lengths of words in list words).\n",
    "d) [['THE', 'the', 3], ['QUICK', 'quick', 5], ['BROWN', 'brown', 5], ['FOX', 'fox', 3], ['JUMPS', 'jumps', 5], ['OVER', 'over', 4], ['THE', 'the', 3], ['LAZY', 'lazy', 4], ['DOG', 'dog', 3]] (the list containing a list for every word of list words, where each list contains the word in uppercase and lowercase and the length of the word.)\n",
    "e) ['quick', 'brown', 'jumps', 'over', 'lazy'] (the list of words in list words containing 4 or more characters.)"
   ]
  },
  {
   "cell_type": "code",
   "execution_count": 3,
   "id": "2e5d98d9",
   "metadata": {},
   "outputs": [
    {
     "name": "stdout",
     "output_type": "stream",
     "text": [
      "['THE', 'QUICK', 'BROWN', 'FOX', 'JUMPS', 'OVER', 'THE', 'LAZY', 'DOG']\n",
      "['the', 'quick', 'brown', 'fox', 'jumps', 'over', 'the', 'lazy', 'dog']\n",
      "[3, 5, 5, 3, 5, 4, 3, 4, 3]\n",
      "['THE', 'the', 3, 'QUICK', 'quick', 5, 'BROWN', 'brown', 5, 'FOX', 'fox', 3, 'JUMPS', 'jumps', 5, 'OVER', 'over', 4, 'THE', 'the', 3, 'LAZY', 'lazy', 4, 'DOG', 'dog', 3]\n",
      "['quick', 'brown', 'jumps', 'over', 'lazy']\n"
     ]
    }
   ],
   "source": [
    "words = ['The', 'quick', 'brown', 'fox', 'jumps', 'over', 'the', 'lazy', 'dog']\n",
    "output=[]\n",
    "for each_word in words: \n",
    "    output.append(each_word.upper())\n",
    "print(output)\n",
    "output1=[]\n",
    "for each_word in words: \n",
    "    output1.append(each_word.lower())\n",
    "print(output1)\n",
    "output2=[]\n",
    "for each_word in words: \n",
    "    output2.append(len(each_word))\n",
    "print(output2)\n",
    "output4=[]\n",
    "for each_word in words:\n",
    "    for i in range (1):\n",
    "        output4.append(each_word.upper())\n",
    "    for j in range (1):\n",
    "        output4.append(each_word.lower())\n",
    "    for k in range (1):\n",
    "        output4.append(len(each_word))\n",
    "print(output4)\n",
    "output3=[]\n",
    "for each_word in words:\n",
    "    if len(each_word)>3:\n",
    "        output3.append(each_word)\n",
    "print(output3)"
   ]
  },
  {
   "cell_type": "code",
   "execution_count": null,
   "id": "9f4de579",
   "metadata": {},
   "outputs": [],
   "source": []
  }
 ],
 "metadata": {
  "kernelspec": {
   "display_name": "Python 3",
   "language": "python",
   "name": "python3"
  },
  "language_info": {
   "codemirror_mode": {
    "name": "ipython",
    "version": 3
   },
   "file_extension": ".py",
   "mimetype": "text/x-python",
   "name": "python",
   "nbconvert_exporter": "python",
   "pygments_lexer": "ipython3",
   "version": "3.8.8"
  }
 },
 "nbformat": 4,
 "nbformat_minor": 5
}
